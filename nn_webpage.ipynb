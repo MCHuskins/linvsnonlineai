{
  "nbformat": 4,
  "nbformat_minor": 0,
  "metadata": {
    "colab": {
      "name": "nn webpage.ipynb",
      "provenance": [],
      "collapsed_sections": [],
      "include_colab_link": true
    },
    "kernelspec": {
      "name": "python3",
      "display_name": "Python 3"
    },
    "accelerator": "GPU",
    "widgets": {
      "application/vnd.jupyter.widget-state+json": {
        "89fbcc6b43084972a001c6439838b550": {
          "model_module": "@jupyter-widgets/controls",
          "model_name": "BoxModel",
          "model_module_version": "1.5.0",
          "state": {
            "_view_name": "BoxView",
            "_dom_classes": [],
            "_model_name": "BoxModel",
            "_view_module": "@jupyter-widgets/controls",
            "_model_module_version": "1.5.0",
            "_view_count": null,
            "_view_module_version": "1.5.0",
            "box_style": "",
            "layout": "IPY_MODEL_b5a1fa32725e4d17b62b4781f5e549fb",
            "_model_module": "@jupyter-widgets/controls",
            "children": [
              "IPY_MODEL_98401f0768c24cf0b4d74a3354e7bf1c",
              "IPY_MODEL_dcf4f2ac44af44b4bc801dd8b8573a67",
              "IPY_MODEL_21dceefc7989482fbeeb05684e82ed82",
              "IPY_MODEL_34d03926cca74b4c82931eb87f025b7e",
              "IPY_MODEL_ccd27391453e49ab8707cf07d82df984"
            ]
          }
        },
        "b5a1fa32725e4d17b62b4781f5e549fb": {
          "model_module": "@jupyter-widgets/base",
          "model_name": "LayoutModel",
          "model_module_version": "1.2.0",
          "state": {
            "_view_name": "LayoutView",
            "grid_template_rows": null,
            "right": null,
            "justify_content": "center",
            "_view_module": "@jupyter-widgets/base",
            "overflow": null,
            "_model_module_version": "1.2.0",
            "_view_count": null,
            "flex_flow": "column",
            "width": "100%",
            "min_width": null,
            "border": "solid",
            "align_items": "stretch",
            "bottom": null,
            "_model_module": "@jupyter-widgets/base",
            "top": null,
            "grid_column": null,
            "overflow_y": null,
            "overflow_x": null,
            "grid_auto_flow": null,
            "grid_area": null,
            "grid_template_columns": null,
            "flex": "center",
            "_model_name": "LayoutModel",
            "justify_items": null,
            "grid_row": null,
            "max_height": null,
            "align_content": "center",
            "visibility": null,
            "align_self": "center",
            "height": "100%",
            "min_height": null,
            "padding": null,
            "grid_auto_rows": null,
            "grid_gap": "10000",
            "max_width": null,
            "order": null,
            "_view_module_version": "1.2.0",
            "grid_template_areas": null,
            "object_position": null,
            "object_fit": null,
            "grid_auto_columns": null,
            "margin": null,
            "display": "flex",
            "left": null
          }
        },
        "98401f0768c24cf0b4d74a3354e7bf1c": {
          "model_module": "@jupyter-widgets/controls",
          "model_name": "LabelModel",
          "model_module_version": "1.5.0",
          "state": {
            "_view_name": "LabelView",
            "style": "IPY_MODEL_2b83f64d563b4daa8c59050475960227",
            "_dom_classes": [],
            "description": "",
            "_model_name": "LabelModel",
            "placeholder": "​",
            "_view_module": "@jupyter-widgets/controls",
            "_model_module_version": "1.5.0",
            "value": "Add Your Graph!",
            "_view_count": null,
            "_view_module_version": "1.5.0",
            "description_tooltip": null,
            "_model_module": "@jupyter-widgets/controls",
            "layout": "IPY_MODEL_3bc05ea81a9f4de59092028986e5a60c"
          }
        },
        "dcf4f2ac44af44b4bc801dd8b8573a67": {
          "model_module": "@jupyter-widgets/controls",
          "model_name": "FileUploadModel",
          "model_module_version": "1.5.0",
          "state": {
            "_view_name": "FileUploadView",
            "_counter": 1,
            "style": "IPY_MODEL_0fc3b9a7bb914151ae66d6d67602b685",
            "_dom_classes": [],
            "description": "Upload",
            "multiple": false,
            "_model_name": "FileUploadModel",
            "data": [
              null
            ],
            "button_style": "",
            "_view_module": "@jupyter-widgets/controls",
            "_model_module_version": "1.5.0",
            "accept": "",
            "_view_count": null,
            "disabled": false,
            "_view_module_version": "1.5.0",
            "error": "",
            "description_tooltip": null,
            "metadata": [
              {
                "name": "CNX_Precalc_Figure_02_02_0102.jpg",
                "type": "image/jpeg",
                "size": 24154,
                "lastModified": 1644440416960
              }
            ],
            "_model_module": "@jupyter-widgets/controls",
            "layout": "IPY_MODEL_0d91e83732d948088c6b23c48c6480bc",
            "icon": "upload"
          }
        },
        "21dceefc7989482fbeeb05684e82ed82": {
          "model_module": "@jupyter-widgets/controls",
          "model_name": "ButtonModel",
          "model_module_version": "1.5.0",
          "state": {
            "_view_name": "ButtonView",
            "style": "IPY_MODEL_4718cdbebf0444f6968d9b665ddb66b4",
            "_dom_classes": [],
            "description": "Classify",
            "_model_name": "ButtonModel",
            "button_style": "",
            "_view_module": "@jupyter-widgets/controls",
            "_model_module_version": "1.5.0",
            "tooltip": "",
            "_view_count": null,
            "disabled": false,
            "_view_module_version": "1.5.0",
            "layout": "IPY_MODEL_6b6dd366aff542499a9b7b7b955f01c9",
            "_model_module": "@jupyter-widgets/controls",
            "icon": ""
          }
        },
        "34d03926cca74b4c82931eb87f025b7e": {
          "model_module": "@jupyter-widgets/output",
          "model_name": "OutputModel",
          "model_module_version": "1.0.0",
          "state": {
            "_view_name": "OutputView",
            "msg_id": "",
            "_dom_classes": [],
            "_model_name": "OutputModel",
            "outputs": [
              {
                "output_type": "display_data",
                "data": {
                  "image/png": "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\n",
                  "text/plain": "<PIL.Image.Image image mode=RGB size=281x288 at 0x7F8EE64882D0>"
                },
                "metadata": {}
              }
            ],
            "_view_module": "@jupyter-widgets/output",
            "_model_module_version": "1.0.0",
            "_view_count": null,
            "_view_module_version": "1.0.0",
            "layout": "IPY_MODEL_48520fe6a6f04e8dbc6cc9c33bc3fe22",
            "_model_module": "@jupyter-widgets/output"
          }
        },
        "ccd27391453e49ab8707cf07d82df984": {
          "model_module": "@jupyter-widgets/controls",
          "model_name": "LabelModel",
          "model_module_version": "1.5.0",
          "state": {
            "_view_name": "LabelView",
            "style": "IPY_MODEL_377a5f0395f346968eb5d7d1ec22c562",
            "_dom_classes": [],
            "description": "",
            "_model_name": "LabelModel",
            "placeholder": "​",
            "_view_module": "@jupyter-widgets/controls",
            "_model_module_version": "1.5.0",
            "value": "Prediction: Linear; Probability: 100.0000 %",
            "_view_count": null,
            "_view_module_version": "1.5.0",
            "description_tooltip": null,
            "_model_module": "@jupyter-widgets/controls",
            "layout": "IPY_MODEL_9554fab2bc82493498f2189504e44d90"
          }
        },
        "2b83f64d563b4daa8c59050475960227": {
          "model_module": "@jupyter-widgets/controls",
          "model_name": "DescriptionStyleModel",
          "model_module_version": "1.5.0",
          "state": {
            "_view_name": "StyleView",
            "_model_name": "DescriptionStyleModel",
            "description_width": "",
            "_view_module": "@jupyter-widgets/base",
            "_model_module_version": "1.5.0",
            "_view_count": null,
            "_view_module_version": "1.2.0",
            "_model_module": "@jupyter-widgets/controls"
          }
        },
        "3bc05ea81a9f4de59092028986e5a60c": {
          "model_module": "@jupyter-widgets/base",
          "model_name": "LayoutModel",
          "model_module_version": "1.2.0",
          "state": {
            "_view_name": "LayoutView",
            "grid_template_rows": null,
            "right": null,
            "justify_content": null,
            "_view_module": "@jupyter-widgets/base",
            "overflow": null,
            "_model_module_version": "1.2.0",
            "_view_count": null,
            "flex_flow": null,
            "width": null,
            "min_width": null,
            "border": null,
            "align_items": null,
            "bottom": null,
            "_model_module": "@jupyter-widgets/base",
            "top": null,
            "grid_column": null,
            "overflow_y": null,
            "overflow_x": null,
            "grid_auto_flow": null,
            "grid_area": null,
            "grid_template_columns": null,
            "flex": null,
            "_model_name": "LayoutModel",
            "justify_items": null,
            "grid_row": null,
            "max_height": null,
            "align_content": null,
            "visibility": null,
            "align_self": null,
            "height": null,
            "min_height": null,
            "padding": null,
            "grid_auto_rows": null,
            "grid_gap": null,
            "max_width": null,
            "order": null,
            "_view_module_version": "1.2.0",
            "grid_template_areas": null,
            "object_position": null,
            "object_fit": null,
            "grid_auto_columns": null,
            "margin": null,
            "display": null,
            "left": null
          }
        },
        "0fc3b9a7bb914151ae66d6d67602b685": {
          "model_module": "@jupyter-widgets/controls",
          "model_name": "ButtonStyleModel",
          "model_module_version": "1.5.0",
          "state": {
            "_view_name": "StyleView",
            "_model_name": "ButtonStyleModel",
            "_view_module": "@jupyter-widgets/base",
            "_model_module_version": "1.5.0",
            "_view_count": null,
            "button_color": null,
            "font_weight": "",
            "_view_module_version": "1.2.0",
            "_model_module": "@jupyter-widgets/controls"
          }
        },
        "0d91e83732d948088c6b23c48c6480bc": {
          "model_module": "@jupyter-widgets/base",
          "model_name": "LayoutModel",
          "model_module_version": "1.2.0",
          "state": {
            "_view_name": "LayoutView",
            "grid_template_rows": null,
            "right": null,
            "justify_content": null,
            "_view_module": "@jupyter-widgets/base",
            "overflow": null,
            "_model_module_version": "1.2.0",
            "_view_count": null,
            "flex_flow": null,
            "width": null,
            "min_width": null,
            "border": null,
            "align_items": null,
            "bottom": null,
            "_model_module": "@jupyter-widgets/base",
            "top": null,
            "grid_column": null,
            "overflow_y": null,
            "overflow_x": null,
            "grid_auto_flow": null,
            "grid_area": null,
            "grid_template_columns": null,
            "flex": null,
            "_model_name": "LayoutModel",
            "justify_items": null,
            "grid_row": null,
            "max_height": null,
            "align_content": null,
            "visibility": null,
            "align_self": null,
            "height": null,
            "min_height": null,
            "padding": null,
            "grid_auto_rows": null,
            "grid_gap": null,
            "max_width": null,
            "order": null,
            "_view_module_version": "1.2.0",
            "grid_template_areas": null,
            "object_position": null,
            "object_fit": null,
            "grid_auto_columns": null,
            "margin": null,
            "display": null,
            "left": null
          }
        },
        "4718cdbebf0444f6968d9b665ddb66b4": {
          "model_module": "@jupyter-widgets/controls",
          "model_name": "ButtonStyleModel",
          "model_module_version": "1.5.0",
          "state": {
            "_view_name": "StyleView",
            "_model_name": "ButtonStyleModel",
            "_view_module": "@jupyter-widgets/base",
            "_model_module_version": "1.5.0",
            "_view_count": null,
            "button_color": null,
            "font_weight": "",
            "_view_module_version": "1.2.0",
            "_model_module": "@jupyter-widgets/controls"
          }
        },
        "6b6dd366aff542499a9b7b7b955f01c9": {
          "model_module": "@jupyter-widgets/base",
          "model_name": "LayoutModel",
          "model_module_version": "1.2.0",
          "state": {
            "_view_name": "LayoutView",
            "grid_template_rows": null,
            "right": null,
            "justify_content": null,
            "_view_module": "@jupyter-widgets/base",
            "overflow": null,
            "_model_module_version": "1.2.0",
            "_view_count": null,
            "flex_flow": null,
            "width": null,
            "min_width": null,
            "border": null,
            "align_items": null,
            "bottom": null,
            "_model_module": "@jupyter-widgets/base",
            "top": null,
            "grid_column": null,
            "overflow_y": null,
            "overflow_x": null,
            "grid_auto_flow": null,
            "grid_area": null,
            "grid_template_columns": null,
            "flex": null,
            "_model_name": "LayoutModel",
            "justify_items": null,
            "grid_row": null,
            "max_height": null,
            "align_content": null,
            "visibility": null,
            "align_self": null,
            "height": null,
            "min_height": null,
            "padding": null,
            "grid_auto_rows": null,
            "grid_gap": null,
            "max_width": null,
            "order": null,
            "_view_module_version": "1.2.0",
            "grid_template_areas": null,
            "object_position": null,
            "object_fit": null,
            "grid_auto_columns": null,
            "margin": null,
            "display": null,
            "left": null
          }
        },
        "377a5f0395f346968eb5d7d1ec22c562": {
          "model_module": "@jupyter-widgets/controls",
          "model_name": "DescriptionStyleModel",
          "model_module_version": "1.5.0",
          "state": {
            "_view_name": "StyleView",
            "_model_name": "DescriptionStyleModel",
            "description_width": "",
            "_view_module": "@jupyter-widgets/base",
            "_model_module_version": "1.5.0",
            "_view_count": null,
            "_view_module_version": "1.2.0",
            "_model_module": "@jupyter-widgets/controls"
          }
        },
        "9554fab2bc82493498f2189504e44d90": {
          "model_module": "@jupyter-widgets/base",
          "model_name": "LayoutModel",
          "model_module_version": "1.2.0",
          "state": {
            "_view_name": "LayoutView",
            "grid_template_rows": null,
            "right": null,
            "justify_content": null,
            "_view_module": "@jupyter-widgets/base",
            "overflow": null,
            "_model_module_version": "1.2.0",
            "_view_count": null,
            "flex_flow": null,
            "width": null,
            "min_width": null,
            "border": null,
            "align_items": null,
            "bottom": null,
            "_model_module": "@jupyter-widgets/base",
            "top": null,
            "grid_column": null,
            "overflow_y": null,
            "overflow_x": null,
            "grid_auto_flow": null,
            "grid_area": null,
            "grid_template_columns": null,
            "flex": null,
            "_model_name": "LayoutModel",
            "justify_items": null,
            "grid_row": null,
            "max_height": null,
            "align_content": null,
            "visibility": null,
            "align_self": null,
            "height": null,
            "min_height": null,
            "padding": null,
            "grid_auto_rows": null,
            "grid_gap": null,
            "max_width": null,
            "order": null,
            "_view_module_version": "1.2.0",
            "grid_template_areas": null,
            "object_position": null,
            "object_fit": null,
            "grid_auto_columns": null,
            "margin": null,
            "display": null,
            "left": null
          }
        },
        "48520fe6a6f04e8dbc6cc9c33bc3fe22": {
          "model_module": "@jupyter-widgets/base",
          "model_name": "LayoutModel",
          "model_module_version": "1.2.0",
          "state": {
            "_view_name": "LayoutView",
            "grid_template_rows": null,
            "right": null,
            "justify_content": null,
            "_view_module": "@jupyter-widgets/base",
            "overflow": null,
            "_model_module_version": "1.2.0",
            "_view_count": null,
            "flex_flow": null,
            "width": null,
            "min_width": null,
            "border": null,
            "align_items": null,
            "bottom": null,
            "_model_module": "@jupyter-widgets/base",
            "top": null,
            "grid_column": null,
            "overflow_y": null,
            "overflow_x": null,
            "grid_auto_flow": null,
            "grid_area": null,
            "grid_template_columns": null,
            "flex": null,
            "_model_name": "LayoutModel",
            "justify_items": null,
            "grid_row": null,
            "max_height": null,
            "align_content": null,
            "visibility": null,
            "align_self": null,
            "height": null,
            "min_height": null,
            "padding": null,
            "grid_auto_rows": null,
            "grid_gap": null,
            "max_width": null,
            "order": null,
            "_view_module_version": "1.2.0",
            "grid_template_areas": null,
            "object_position": null,
            "object_fit": null,
            "grid_auto_columns": null,
            "margin": null,
            "display": null,
            "left": null
          }
        }
      }
    }
  },
  "cells": [
    {
      "cell_type": "markdown",
      "metadata": {
        "id": "view-in-github",
        "colab_type": "text"
      },
      "source": [
        "<a href=\"https://colab.research.google.com/github/MCHuskins/linvsnonlineai/blob/main/nn_webpage.ipynb\" target=\"_parent\"><img src=\"https://colab.research.google.com/assets/colab-badge.svg\" alt=\"Open In Colab\"/></a>"
      ]
    },
    {
      "cell_type": "code",
      "source": [
        "# ## for testing\n",
        "# !pip install -Uqq fastbook\n",
        "# import fastbook\n",
        "# fastbook.setup_book()\n",
        "# from fastbook import *\n",
        "# path = Path('gdrive/My Drive/')\n",
        "# learn_inf = load_learner(path/'export.pkl')\n",
        "# from fastai.vision.widgets import *"
      ],
      "metadata": {
        "id": "97lXO8MvWo1x",
        "colab": {
          "base_uri": "https://localhost:8080/"
        },
        "outputId": "8bccb812-2196-412d-bb89-ca32087c37cb"
      },
      "execution_count": 1,
      "outputs": [
        {
          "output_type": "stream",
          "name": "stdout",
          "text": [
            "\u001b[K     |████████████████████████████████| 720 kB 5.4 MB/s \n",
            "\u001b[K     |████████████████████████████████| 46 kB 2.0 MB/s \n",
            "\u001b[K     |████████████████████████████████| 1.2 MB 24.8 MB/s \n",
            "\u001b[K     |████████████████████████████████| 189 kB 20.7 MB/s \n",
            "\u001b[K     |████████████████████████████████| 56 kB 1.6 MB/s \n",
            "\u001b[K     |████████████████████████████████| 51 kB 102 kB/s \n",
            "\u001b[?25hMounted at /content/gdrive\n"
          ]
        }
      ]
    },
    {
      "cell_type": "code",
      "metadata": {
        "id": "obitad3w_UZb"
      },
      "source": [
        "##un comment for git hub\n",
        "from fastai.vision.all import *\n",
        "from fastai.vision.widgets import *\n",
        "learn_inf = load_learner('export.pkl')"
      ],
      "execution_count": null,
      "outputs": []
    },
    {
      "cell_type": "code",
      "metadata": {
        "id": "bNdHdYq4_7sq"
      },
      "source": [
        "btn_upload = widgets.FileUpload()"
      ],
      "execution_count": 3,
      "outputs": []
    },
    {
      "cell_type": "code",
      "metadata": {
        "id": "m40M-gtwEP6V"
      },
      "source": [
        "btn_run = widgets.Button(description='Classify')"
      ],
      "execution_count": 4,
      "outputs": []
    },
    {
      "cell_type": "code",
      "metadata": {
        "id": "QOOhhRguEYHJ"
      },
      "source": [
        "out_pl = widgets.Output()\n",
        "lbl_pred = widgets.Label()"
      ],
      "execution_count": 5,
      "outputs": []
    },
    {
      "cell_type": "code",
      "metadata": {
        "id": "sMo0_9ZEhyl8"
      },
      "source": [
        "def on_click_classify(change):\n",
        "    img = PILImage.create(btn_upload.data[-1])\n",
        "    out_pl.clear_output()\n",
        "    with out_pl: display(img.to_thumb(288,288))\n",
        "    pred,pred_idx,probs = learn_inf.predict(img)\n",
        "    lbl_pred.value = f'Prediction: {pred}; Probability: {100*probs[pred_idx]:.04f} %'\n",
        "\n",
        "btn_run.on_click(on_click_classify)"
      ],
      "execution_count": 8,
      "outputs": []
    },
    {
      "cell_type": "code",
      "source": [
        "box_layout = Layout(display='flex',\n",
        "                    flex_flow='column',\n",
        "                    align_items='stretch',\n",
        "                    border='solid', \n",
        "                    width='100%',\n",
        "                    height=\"100%\",\n",
        "                    justify_content='center',\n",
        "                    grid_gap=\"10000\",\n",
        "                    Positioning=\"right\",\n",
        "                    align_content=\"center\",\n",
        "                    align_self=\"center\",\n",
        "                    flex=\"center\")"
      ],
      "metadata": {
        "id": "aCR2bPIDZJVK"
      },
      "execution_count": 67,
      "outputs": []
    },
    {
      "cell_type": "code",
      "metadata": {
        "id": "30PYBlv-EymF",
        "colab": {
          "base_uri": "https://localhost:8080/",
          "height": 437,
          "referenced_widgets": [
            "89fbcc6b43084972a001c6439838b550",
            "b5a1fa32725e4d17b62b4781f5e549fb",
            "98401f0768c24cf0b4d74a3354e7bf1c",
            "dcf4f2ac44af44b4bc801dd8b8573a67",
            "21dceefc7989482fbeeb05684e82ed82",
            "34d03926cca74b4c82931eb87f025b7e",
            "ccd27391453e49ab8707cf07d82df984",
            "2b83f64d563b4daa8c59050475960227",
            "3bc05ea81a9f4de59092028986e5a60c",
            "0fc3b9a7bb914151ae66d6d67602b685",
            "0d91e83732d948088c6b23c48c6480bc",
            "4718cdbebf0444f6968d9b665ddb66b4",
            "6b6dd366aff542499a9b7b7b955f01c9",
            "377a5f0395f346968eb5d7d1ec22c562",
            "9554fab2bc82493498f2189504e44d90",
            "48520fe6a6f04e8dbc6cc9c33bc3fe22"
          ]
        },
        "outputId": "ae113d8e-eec8-404d-aa2b-7def4ec2c281"
      },
      "source": [
        "b= Box([widgets.Label('Add Your Graph!'), \n",
        "      btn_upload, btn_run, out_pl, lbl_pred], layout=box_layout, height=\"1000000\")\n",
        "b"
      ],
      "execution_count": 68,
      "outputs": [
        {
          "output_type": "display_data",
          "data": {
            "application/vnd.jupyter.widget-view+json": {
              "model_id": "89fbcc6b43084972a001c6439838b550",
              "version_minor": 0,
              "version_major": 2
            },
            "text/plain": [
              "Box(children=(Label(value='Add Your Graph!'), FileUpload(value={'CNX_Precalc_Figure_02_02_0102.jpg': {'metadat…"
            ]
          },
          "metadata": {}
        }
      ]
    }
  ]
}